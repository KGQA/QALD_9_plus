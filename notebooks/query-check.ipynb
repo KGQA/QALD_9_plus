{
 "cells": [
  {
   "cell_type": "code",
   "execution_count": 1,
   "metadata": {},
   "outputs": [],
   "source": [
    "import json\n",
    "from time import sleep\n",
    "import logging\n",
    "from tqdm.notebook import tqdm\n",
    "\n",
    "from SPARQLWrapper import SPARQLWrapper, JSON"
   ]
  },
  {
   "cell_type": "code",
   "execution_count": 2,
   "metadata": {},
   "outputs": [],
   "source": [
    "def execute(query: str, endpoint_url: str = 'https://query.wikidata.org/bigdata/namespace/wdq/sparql'):\n",
    "    \"\"\"\n",
    "    https://dbpedia.org/sparql\n",
    "    https://query.wikidata.org/bigdata/namespace/wdq/sparql\n",
    "    \"\"\"\n",
    "    \n",
    "    sparql = SPARQLWrapper(endpoint_url)\n",
    "    # sparql.agent = str(agent_header)\n",
    "    sparql.setQuery(query)\n",
    "    sparql.setReturnFormat(JSON)\n",
    "    response = sparql.query().convert()\n",
    "    return response"
   ]
  },
  {
   "cell_type": "code",
   "execution_count": 3,
   "metadata": {},
   "outputs": [],
   "source": [
    "qald_test = json.load(open('../data/qald_9_plus_test_dbpedia.json'))\n",
    "qald_train = json.load(open('../data/qald_9_plus_train_dbpedia.json'))"
   ]
  },
  {
   "cell_type": "code",
   "execution_count": 7,
   "metadata": {},
   "outputs": [
    {
     "data": {
      "text/plain": [
       "{'id': '99',\n",
       " 'question': [{'language': 'en',\n",
       "   'string': 'What is the time zone of Salt Lake City?'},\n",
       "  {'language': 'de', 'string': 'In welcher Zeitzone liegt Salt Lake City?'},\n",
       "  {'language': 'de', 'string': 'Was ist die Zeitzone von Salt Lake City?'},\n",
       "  {'language': 'ru', 'string': 'Какой часовой пояс в Солт-Лейк-Сити'},\n",
       "  {'language': 'ru',\n",
       "   'string': 'В каком часовом поясе расположен Солт-Лейк-Сити?'},\n",
       "  {'language': 'uk', 'string': 'Який часовий пояс у Солт-Лейк Сіті?'},\n",
       "  {'language': 'lt', 'string': 'Kokia Solt Leik Sičio laiko zona?'},\n",
       "  {'language': 'be', 'string': 'Які гадзінны пояс у Солт-Лэйк-Сіці'},\n",
       "  {'language': 'lt', 'string': 'Kokia laiko juosta yra Solt Leik Sityjes'},\n",
       "  {'language': 'ba', 'string': 'Ниндей вакыт поясы Солт-Лейк-Ситила'}],\n",
       " 'query': {'sparql': 'PREFIX res: <http://dbpedia.org/resource/> PREFIX dbp: <http://dbpedia.org/property/> SELECT DISTINCT ?uri WHERE { res:Salt_Lake_City <http://dbpedia.org/ontology/timeZone> ?uri }'},\n",
       " 'answers': [{'head': {'link': [], 'vars': ['uri']},\n",
       "   'results': {'bindings': [{'uri': {'type': 'uri',\n",
       "       'value': 'http://dbpedia.org/resource/Mountain_Time_Zone'}}]}}]}"
      ]
     },
     "execution_count": 7,
     "metadata": {},
     "output_type": "execute_result"
    }
   ],
   "source": [
    "qald_test['questions'][0]"
   ]
  },
  {
   "cell_type": "code",
   "execution_count": 16,
   "metadata": {},
   "outputs": [
    {
     "data": {
      "application/vnd.jupyter.widget-view+json": {
       "model_id": "6fd8795dd3b948c88db3f89607a508a8",
       "version_major": 2,
       "version_minor": 0
      },
      "text/plain": [
       "HBox(children=(FloatProgress(value=0.0, max=150.0), HTML(value='')))"
      ]
     },
     "metadata": {},
     "output_type": "display_data"
    },
    {
     "name": "stdout",
     "output_type": "stream",
     "text": [
      "\n"
     ]
    }
   ],
   "source": [
    "for q in tqdm(qald_test['questions']):\n",
    "    if 'query' in q:\n",
    "        try:\n",
    "            execute(query=q['query']['sparql'], endpoint_url='https://skynet.coypu.org/dbpedia/')\n",
    "        except Exception as e:\n",
    "            with open(\"test_logs.tsv\", \"a\") as myfile:\n",
    "                myfile.write(q['id'] + '\\t' + q['query']['sparql'].replace(\"\\n\", \" \") + '\\t' + str(e) + '\\n')"
   ]
  },
  {
   "cell_type": "code",
   "execution_count": 17,
   "metadata": {},
   "outputs": [
    {
     "data": {
      "application/vnd.jupyter.widget-view+json": {
       "model_id": "9676af27261442279503534f98d8dacf",
       "version_major": 2,
       "version_minor": 0
      },
      "text/plain": [
       "HBox(children=(FloatProgress(value=0.0, max=408.0), HTML(value='')))"
      ]
     },
     "metadata": {},
     "output_type": "display_data"
    },
    {
     "name": "stdout",
     "output_type": "stream",
     "text": [
      "\n"
     ]
    }
   ],
   "source": [
    "for q in tqdm(qald_train['questions']):\n",
    "    if 'query' in q:\n",
    "        try:\n",
    "            execute(query=q['query']['sparql'], endpoint_url='https://skynet.coypu.org/dbpedia/')\n",
    "        except Exception as e:\n",
    "            with open(\"train_logs.tsv\", \"a\") as myfile:\n",
    "                myfile.write(q['id'] + '\\t' + q['query']['sparql'].replace(\"\\n\", \" \") + '\\t' + str(e) + '\\n')"
   ]
  },
  {
   "cell_type": "markdown",
   "metadata": {},
   "source": [
    "## Re-run the queries to get the new answers"
   ]
  },
  {
   "cell_type": "code",
   "execution_count": 6,
   "metadata": {},
   "outputs": [
    {
     "data": {
      "application/vnd.jupyter.widget-view+json": {
       "model_id": "38b8ccdbd2454420a7c2e5ac722ae129",
       "version_major": 2,
       "version_minor": 0
      },
      "text/plain": [
       "HBox(children=(FloatProgress(value=0.0, max=150.0), HTML(value='')))"
      ]
     },
     "metadata": {},
     "output_type": "display_data"
    },
    {
     "name": "stdout",
     "output_type": "stream",
     "text": [
      "\n"
     ]
    }
   ],
   "source": [
    "for q in tqdm(qald_test['questions']):\n",
    "    q[\"answers\"] = execute(query=q['query']['sparql'], endpoint_url='https://skynet.coypu.org/dbpedia/')"
   ]
  },
  {
   "cell_type": "code",
   "execution_count": 7,
   "metadata": {},
   "outputs": [
    {
     "data": {
      "application/vnd.jupyter.widget-view+json": {
       "model_id": "5b86f4dc9223453ca66cf552e379b91f",
       "version_major": 2,
       "version_minor": 0
      },
      "text/plain": [
       "HBox(children=(FloatProgress(value=0.0, max=408.0), HTML(value='')))"
      ]
     },
     "metadata": {},
     "output_type": "display_data"
    }
   ],
   "source": [
    "for q in tqdm(qald_train['questions']):\n",
    "    q[\"answers\"] = execute(query=q['query']['sparql'], endpoint_url='https://skynet.coypu.org/dbpedia/')"
   ]
  },
  {
   "cell_type": "code",
   "execution_count": null,
   "metadata": {},
   "outputs": [],
   "source": [
    "with open(\"../data/qald_9_plus_test_dbpedia.json\", \"w\") as myfile:\n",
    "    json.dump(qald_test, myfile, indent=4, ensure_ascii=False)"
   ]
  },
  {
   "cell_type": "code",
   "execution_count": null,
   "metadata": {},
   "outputs": [],
   "source": [
    "with open(\"../data/qald_9_plus_train_dbpedia.json\", \"w\") as myfile:\n",
    "    json.dump(qald_train, myfile, indent=4, ensure_ascii=False)"
   ]
  }
 ],
 "metadata": {
  "kernelspec": {
   "display_name": "Python 3.8.10 64-bit",
   "language": "python",
   "name": "python3"
  },
  "language_info": {
   "codemirror_mode": {
    "name": "ipython",
    "version": 3
   },
   "file_extension": ".py",
   "mimetype": "text/x-python",
   "name": "python",
   "nbconvert_exporter": "python",
   "pygments_lexer": "ipython3",
   "version": "3.8.10"
  },
  "orig_nbformat": 4,
  "vscode": {
   "interpreter": {
    "hash": "916dbcbb3f70747c44a77c7bcd40155683ae19c65e1c03b4aa3499c5328201f1"
   }
  }
 },
 "nbformat": 4,
 "nbformat_minor": 2
}
